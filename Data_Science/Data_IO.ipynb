{
 "cells": [
  {
   "cell_type": "markdown",
   "id": "788ccf8e-a9ba-4a95-a632-39c4fc9ac7b3",
   "metadata": {},
   "source": [
    "# Data Input/Output (IO)\n",
    "\n",
    "This utility describes how to import data from .csv, inspect it, modify it, and save a new data file. \n",
    "\n",
    "1. Import libraries\n",
    "2. Load a .csv file as a dataframe\n",
    "3. Use various Pandas methods and attributes to inspect the data\n",
    "4. Make some basic plots using specified columns\n",
    "5. Save a new .csv file as output"
   ]
  },
  {
   "cell_type": "code",
   "execution_count": 2,
   "id": "16309553-1f29-4880-9739-0998d8568c77",
   "metadata": {},
   "outputs": [],
   "source": [
    "# Import Libraries\n",
    "import pandas as pd\n",
    "import matplotlib.pyplot as plt"
   ]
  },
  {
   "cell_type": "code",
   "execution_count": 5,
   "id": "f344ac03-cfa4-49fd-b402-8069eb9557b2",
   "metadata": {},
   "outputs": [
    {
     "data": {
      "text/html": [
       "<div>\n",
       "<style scoped>\n",
       "    .dataframe tbody tr th:only-of-type {\n",
       "        vertical-align: middle;\n",
       "    }\n",
       "\n",
       "    .dataframe tbody tr th {\n",
       "        vertical-align: top;\n",
       "    }\n",
       "\n",
       "    .dataframe thead th {\n",
       "        text-align: right;\n",
       "    }\n",
       "</style>\n",
       "<table border=\"1\" class=\"dataframe\">\n",
       "  <thead>\n",
       "    <tr style=\"text-align: right;\">\n",
       "      <th></th>\n",
       "      <th>age</th>\n",
       "      <th>height</th>\n",
       "      <th>gender</th>\n",
       "      <th>is_active</th>\n",
       "      <th>signup_date</th>\n",
       "    </tr>\n",
       "  </thead>\n",
       "  <tbody>\n",
       "    <tr>\n",
       "      <th>0</th>\n",
       "      <td>37.0</td>\n",
       "      <td>NaN</td>\n",
       "      <td>female</td>\n",
       "      <td>False</td>\n",
       "      <td>2020-04-27</td>\n",
       "    </tr>\n",
       "    <tr>\n",
       "      <th>1</th>\n",
       "      <td>35.0</td>\n",
       "      <td>180.86</td>\n",
       "      <td>female</td>\n",
       "      <td>False</td>\n",
       "      <td>NaN</td>\n",
       "    </tr>\n",
       "    <tr>\n",
       "      <th>2</th>\n",
       "      <td>63.0</td>\n",
       "      <td>176.80</td>\n",
       "      <td>male</td>\n",
       "      <td>True</td>\n",
       "      <td>2021-01-29</td>\n",
       "    </tr>\n",
       "    <tr>\n",
       "      <th>3</th>\n",
       "      <td>64.0</td>\n",
       "      <td>191.69</td>\n",
       "      <td>other</td>\n",
       "      <td>True</td>\n",
       "      <td>2023-01-17</td>\n",
       "    </tr>\n",
       "    <tr>\n",
       "      <th>4</th>\n",
       "      <td>27.0</td>\n",
       "      <td>161.93</td>\n",
       "      <td>female</td>\n",
       "      <td>True</td>\n",
       "      <td>2016-02-03</td>\n",
       "    </tr>\n",
       "  </tbody>\n",
       "</table>\n",
       "</div>"
      ],
      "text/plain": [
       "    age  height  gender is_active signup_date\n",
       "0  37.0     NaN  female     False  2020-04-27\n",
       "1  35.0  180.86  female     False         NaN\n",
       "2  63.0  176.80    male      True  2021-01-29\n",
       "3  64.0  191.69   other      True  2023-01-17\n",
       "4  27.0  161.93  female      True  2016-02-03"
      ]
     },
     "execution_count": 5,
     "metadata": {},
     "output_type": "execute_result"
    }
   ],
   "source": [
    "# Load the .csv file and convert to a dataframe\n",
    "file_path = \"DG_Sim_Data.csv\"\n",
    "df = pd.read_csv(file_path)\n",
    "\n",
    "# Display the first 5 rows\n",
    "df.head()"
   ]
  },
  {
   "cell_type": "code",
   "execution_count": 6,
   "id": "e0c9b141-d367-4d73-a315-1f969f314670",
   "metadata": {
    "scrolled": true
   },
   "outputs": [
    {
     "data": {
      "text/html": [
       "<div>\n",
       "<style scoped>\n",
       "    .dataframe tbody tr th:only-of-type {\n",
       "        vertical-align: middle;\n",
       "    }\n",
       "\n",
       "    .dataframe tbody tr th {\n",
       "        vertical-align: top;\n",
       "    }\n",
       "\n",
       "    .dataframe thead th {\n",
       "        text-align: right;\n",
       "    }\n",
       "</style>\n",
       "<table border=\"1\" class=\"dataframe\">\n",
       "  <thead>\n",
       "    <tr style=\"text-align: right;\">\n",
       "      <th></th>\n",
       "      <th>age</th>\n",
       "      <th>height</th>\n",
       "    </tr>\n",
       "  </thead>\n",
       "  <tbody>\n",
       "    <tr>\n",
       "      <th>count</th>\n",
       "      <td>190.000000</td>\n",
       "      <td>190.000000</td>\n",
       "    </tr>\n",
       "    <tr>\n",
       "      <th>mean</th>\n",
       "      <td>41.136842</td>\n",
       "      <td>170.544789</td>\n",
       "    </tr>\n",
       "    <tr>\n",
       "      <th>std</th>\n",
       "      <td>13.336992</td>\n",
       "      <td>10.005565</td>\n",
       "    </tr>\n",
       "    <tr>\n",
       "      <th>min</th>\n",
       "      <td>18.000000</td>\n",
       "      <td>146.850000</td>\n",
       "    </tr>\n",
       "    <tr>\n",
       "      <th>25%</th>\n",
       "      <td>30.250000</td>\n",
       "      <td>163.915000</td>\n",
       "    </tr>\n",
       "    <tr>\n",
       "      <th>50%</th>\n",
       "      <td>40.000000</td>\n",
       "      <td>169.985000</td>\n",
       "    </tr>\n",
       "    <tr>\n",
       "      <th>75%</th>\n",
       "      <td>52.000000</td>\n",
       "      <td>177.070000</td>\n",
       "    </tr>\n",
       "    <tr>\n",
       "      <th>max</th>\n",
       "      <td>64.000000</td>\n",
       "      <td>199.090000</td>\n",
       "    </tr>\n",
       "  </tbody>\n",
       "</table>\n",
       "</div>"
      ],
      "text/plain": [
       "              age      height\n",
       "count  190.000000  190.000000\n",
       "mean    41.136842  170.544789\n",
       "std     13.336992   10.005565\n",
       "min     18.000000  146.850000\n",
       "25%     30.250000  163.915000\n",
       "50%     40.000000  169.985000\n",
       "75%     52.000000  177.070000\n",
       "max     64.000000  199.090000"
      ]
     },
     "execution_count": 6,
     "metadata": {},
     "output_type": "execute_result"
    }
   ],
   "source": [
    "# Provide descriptive stat summary\n",
    "df.describe()"
   ]
  },
  {
   "cell_type": "markdown",
   "id": "0c8bf034-273a-4820-af1c-ac5c4916e68a",
   "metadata": {},
   "source": [
    "## What's going on here?\n",
    "\n",
    "Why does df.head() do that? head() is a function that does the operation of displaying the first five rows. It is written somewhere in the Pandas source code and can be accessed by calling it. There are many methods like that for doing useful things..."
   ]
  },
  {
   "cell_type": "code",
   "execution_count": 7,
   "id": "61aaaefd-8a0d-4231-9a53-5ff16d2d92b9",
   "metadata": {},
   "outputs": [
    {
     "data": {
      "text/html": [
       "<div>\n",
       "<style scoped>\n",
       "    .dataframe tbody tr th:only-of-type {\n",
       "        vertical-align: middle;\n",
       "    }\n",
       "\n",
       "    .dataframe tbody tr th {\n",
       "        vertical-align: top;\n",
       "    }\n",
       "\n",
       "    .dataframe thead th {\n",
       "        text-align: right;\n",
       "    }\n",
       "</style>\n",
       "<table border=\"1\" class=\"dataframe\">\n",
       "  <thead>\n",
       "    <tr style=\"text-align: right;\">\n",
       "      <th></th>\n",
       "      <th>age</th>\n",
       "      <th>height</th>\n",
       "      <th>gender</th>\n",
       "      <th>is_active</th>\n",
       "      <th>signup_date</th>\n",
       "    </tr>\n",
       "  </thead>\n",
       "  <tbody>\n",
       "    <tr>\n",
       "      <th>195</th>\n",
       "      <td>40.0</td>\n",
       "      <td>168.79</td>\n",
       "      <td>other</td>\n",
       "      <td>True</td>\n",
       "      <td>2024-07-23</td>\n",
       "    </tr>\n",
       "    <tr>\n",
       "      <th>196</th>\n",
       "      <td>56.0</td>\n",
       "      <td>151.93</td>\n",
       "      <td>other</td>\n",
       "      <td>False</td>\n",
       "      <td>2016-11-05</td>\n",
       "    </tr>\n",
       "    <tr>\n",
       "      <th>197</th>\n",
       "      <td>62.0</td>\n",
       "      <td>NaN</td>\n",
       "      <td>female</td>\n",
       "      <td>False</td>\n",
       "      <td>2018-07-05</td>\n",
       "    </tr>\n",
       "    <tr>\n",
       "      <th>198</th>\n",
       "      <td>60.0</td>\n",
       "      <td>185.02</td>\n",
       "      <td>male</td>\n",
       "      <td>False</td>\n",
       "      <td>2024-10-27</td>\n",
       "    </tr>\n",
       "    <tr>\n",
       "      <th>199</th>\n",
       "      <td>23.0</td>\n",
       "      <td>166.29</td>\n",
       "      <td>male</td>\n",
       "      <td>True</td>\n",
       "      <td>2018-01-17</td>\n",
       "    </tr>\n",
       "  </tbody>\n",
       "</table>\n",
       "</div>"
      ],
      "text/plain": [
       "      age  height  gender is_active signup_date\n",
       "195  40.0  168.79   other      True  2024-07-23\n",
       "196  56.0  151.93   other     False  2016-11-05\n",
       "197  62.0     NaN  female     False  2018-07-05\n",
       "198  60.0  185.02    male     False  2024-10-27\n",
       "199  23.0  166.29    male      True  2018-01-17"
      ]
     },
     "execution_count": 7,
     "metadata": {},
     "output_type": "execute_result"
    }
   ],
   "source": [
    "# View the last five rows\n",
    "df.tail()"
   ]
  },
  {
   "cell_type": "code",
   "execution_count": 16,
   "id": "001fb39d-494a-4ff7-94b8-de5227e60629",
   "metadata": {},
   "outputs": [
    {
     "data": {
      "text/html": [
       "<div>\n",
       "<style scoped>\n",
       "    .dataframe tbody tr th:only-of-type {\n",
       "        vertical-align: middle;\n",
       "    }\n",
       "\n",
       "    .dataframe tbody tr th {\n",
       "        vertical-align: top;\n",
       "    }\n",
       "\n",
       "    .dataframe thead th {\n",
       "        text-align: right;\n",
       "    }\n",
       "</style>\n",
       "<table border=\"1\" class=\"dataframe\">\n",
       "  <thead>\n",
       "    <tr style=\"text-align: right;\">\n",
       "      <th></th>\n",
       "      <th>age</th>\n",
       "      <th>height</th>\n",
       "      <th>gender</th>\n",
       "      <th>is_active</th>\n",
       "      <th>signup_date</th>\n",
       "    </tr>\n",
       "  </thead>\n",
       "  <tbody>\n",
       "    <tr>\n",
       "      <th>2</th>\n",
       "      <td>63.0</td>\n",
       "      <td>176.80</td>\n",
       "      <td>male</td>\n",
       "      <td>True</td>\n",
       "      <td>2021-01-29</td>\n",
       "    </tr>\n",
       "    <tr>\n",
       "      <th>3</th>\n",
       "      <td>64.0</td>\n",
       "      <td>191.69</td>\n",
       "      <td>other</td>\n",
       "      <td>True</td>\n",
       "      <td>2023-01-17</td>\n",
       "    </tr>\n",
       "    <tr>\n",
       "      <th>4</th>\n",
       "      <td>27.0</td>\n",
       "      <td>161.93</td>\n",
       "      <td>female</td>\n",
       "      <td>True</td>\n",
       "      <td>2016-02-03</td>\n",
       "    </tr>\n",
       "    <tr>\n",
       "      <th>5</th>\n",
       "      <td>43.0</td>\n",
       "      <td>176.31</td>\n",
       "      <td>female</td>\n",
       "      <td>False</td>\n",
       "      <td>2017-11-10</td>\n",
       "    </tr>\n",
       "    <tr>\n",
       "      <th>6</th>\n",
       "      <td>54.0</td>\n",
       "      <td>176.78</td>\n",
       "      <td>other</td>\n",
       "      <td>True</td>\n",
       "      <td>2025-04-24</td>\n",
       "    </tr>\n",
       "  </tbody>\n",
       "</table>\n",
       "</div>"
      ],
      "text/plain": [
       "    age  height  gender is_active signup_date\n",
       "2  63.0  176.80    male      True  2021-01-29\n",
       "3  64.0  191.69   other      True  2023-01-17\n",
       "4  27.0  161.93  female      True  2016-02-03\n",
       "5  43.0  176.31  female     False  2017-11-10\n",
       "6  54.0  176.78   other      True  2025-04-24"
      ]
     },
     "execution_count": 16,
     "metadata": {},
     "output_type": "execute_result"
    }
   ],
   "source": [
    "# Remove all the rows with NaN values\n",
    "''' Note that this approach creates a new dataframe called df_clean to store the data. This is good practice because you're modifiying the original dataframe.'''\n",
    "df_clean= df.dropna()\n",
    "df_clean.head()"
   ]
  },
  {
   "cell_type": "code",
   "execution_count": 12,
   "id": "2a4a514e-1e86-46e5-84a4-212b29e9bb9e",
   "metadata": {},
   "outputs": [
    {
     "data": {
      "text/plain": [
       "(200, 5)"
      ]
     },
     "execution_count": 12,
     "metadata": {},
     "output_type": "execute_result"
    }
   ],
   "source": [
    "# Look at the 'shape' of the data\n",
    "df.shape"
   ]
  },
  {
   "cell_type": "markdown",
   "id": "7b8b7f9d-eea9-4a4f-8723-e249efa05135",
   "metadata": {},
   "source": [
    "## What's going on here?\n",
    "\n",
    "shape is different from a method, that's why it doesn't have the (). shape is an attribute. Something that Pandas has already calculated for the data. You can look at it, and sometimes that's useful..."
   ]
  },
  {
   "cell_type": "code",
   "execution_count": 14,
   "id": "794ab21d-58a3-4593-bf62-4b7511b5ccdd",
   "metadata": {},
   "outputs": [
    {
     "data": {
      "text/plain": [
       "age            float64\n",
       "height         float64\n",
       "gender          object\n",
       "is_active       object\n",
       "signup_date     object\n",
       "dtype: object"
      ]
     },
     "execution_count": 14,
     "metadata": {},
     "output_type": "execute_result"
    }
   ],
   "source": [
    "# This one shows the data types in the columns\n",
    "df.dtypes"
   ]
  },
  {
   "cell_type": "code",
   "execution_count": 19,
   "id": "61326333-5441-4c2d-acc5-6060a3964b3f",
   "metadata": {},
   "outputs": [
    {
     "data": {
      "text/plain": [
       "0    37.0\n",
       "1    35.0\n",
       "2    63.0\n",
       "3    64.0\n",
       "4    27.0\n",
       "Name: age, dtype: float64"
      ]
     },
     "execution_count": 19,
     "metadata": {},
     "output_type": "execute_result"
    }
   ],
   "source": [
    "# split off just one column as a separate array\n",
    "age_array= df['age']\n",
    "age_array.head()"
   ]
  },
  {
   "cell_type": "code",
   "execution_count": 24,
   "id": "302ba8ab-dccd-407a-9bbc-b69a741078f6",
   "metadata": {},
   "outputs": [
    {
     "data": {
      "text/html": [
       "<div>\n",
       "<style scoped>\n",
       "    .dataframe tbody tr th:only-of-type {\n",
       "        vertical-align: middle;\n",
       "    }\n",
       "\n",
       "    .dataframe tbody tr th {\n",
       "        vertical-align: top;\n",
       "    }\n",
       "\n",
       "    .dataframe thead th {\n",
       "        text-align: right;\n",
       "    }\n",
       "</style>\n",
       "<table border=\"1\" class=\"dataframe\">\n",
       "  <thead>\n",
       "    <tr style=\"text-align: right;\">\n",
       "      <th></th>\n",
       "      <th>age</th>\n",
       "      <th>height</th>\n",
       "    </tr>\n",
       "  </thead>\n",
       "  <tbody>\n",
       "    <tr>\n",
       "      <th>0</th>\n",
       "      <td>37.0</td>\n",
       "      <td>NaN</td>\n",
       "    </tr>\n",
       "    <tr>\n",
       "      <th>1</th>\n",
       "      <td>35.0</td>\n",
       "      <td>180.86</td>\n",
       "    </tr>\n",
       "    <tr>\n",
       "      <th>2</th>\n",
       "      <td>63.0</td>\n",
       "      <td>176.80</td>\n",
       "    </tr>\n",
       "    <tr>\n",
       "      <th>3</th>\n",
       "      <td>64.0</td>\n",
       "      <td>191.69</td>\n",
       "    </tr>\n",
       "    <tr>\n",
       "      <th>4</th>\n",
       "      <td>27.0</td>\n",
       "      <td>161.93</td>\n",
       "    </tr>\n",
       "  </tbody>\n",
       "</table>\n",
       "</div>"
      ],
      "text/plain": [
       "    age  height\n",
       "0  37.0     NaN\n",
       "1  35.0  180.86\n",
       "2  63.0  176.80\n",
       "3  64.0  191.69\n",
       "4  27.0  161.93"
      ]
     },
     "execution_count": 24,
     "metadata": {},
     "output_type": "execute_result"
    }
   ],
   "source": [
    "# Do this for more than one column\n",
    "age_height_df= df[['age', 'height']] # note the double brackets\n",
    "age_height_df.head()"
   ]
  },
  {
   "cell_type": "code",
   "execution_count": 17,
   "id": "72fdd1a8-0bd5-4c77-88e3-5b19f43f6050",
   "metadata": {},
   "outputs": [
    {
     "data": {
      "image/png": "[encoded data removed]",
      "text/plain": [
       "<Figure size 600x400 with 1 Axes>"
      ]
     },
     "metadata": {},
     "output_type": "display_data"
    }
   ],
   "source": [
    "# Make a basic histogram plot\n",
    "if 'age' in df_clean.columns: # check to make sure this column header is actually in the data before plotting\n",
    "    plt.figure(figsize=(6, 4))\n",
    "    plt.hist(df_clean['age'], bins=15, edgecolor='black')\n",
    "    plt.title('Age Distribution')\n",
    "    plt.xlabel('Age')\n",
    "    plt.ylabel('Frequency')\n",
    "    plt.show()"
   ]
  },
  {
   "cell_type": "code",
   "execution_count": 25,
   "id": "87bf5b38-0a9f-4a0d-8305-03fa771d3662",
   "metadata": {},
   "outputs": [
    {
     "data": {
      "image/png": "[encoded data removed]",
      "text/plain": [
       "<Figure size 600x400 with 1 Axes>"
      ]
     },
     "metadata": {},
     "output_type": "display_data"
    }
   ],
   "source": [
    "# Make a basic scatter plot between two columns\n",
    "if 'age' in df_clean.columns and 'height' in df_clean.columns:\n",
    "    plt.figure(figsize=(6, 4))\n",
    "    plt.scatter(df_clean['age'], df_clean['height'], alpha=0.7) # lots of things to change; check the matplotlib docs\n",
    "    plt.title('Age vs Height')\n",
    "    plt.xlabel('Age')\n",
    "    plt.ylabel('Height (cm)')\n",
    "    plt.grid(True)\n",
    "    plt.show() "
   ]
  },
  {
   "cell_type": "code",
   "execution_count": 26,
   "id": "25ea51c9-6781-4ba7-b5f9-5a048b2cc9f6",
   "metadata": {},
   "outputs": [],
   "source": [
    "# write a dataframe out as a .csv file\n",
    "df_clean.to_csv(\"DATAIO.csv\", index= False)"
   ]
  }
 ],
 "metadata": {
  "kernelspec": {
   "display_name": "Python 3 (ipykernel)",
   "language": "python",
   "name": "python3"
  },
  "language_info": {
   "codemirror_mode": {
    "name": "ipython",
    "version": 3
   },
   "file_extension": ".py",
   "mimetype": "text/x-python",
   "name": "python",
   "nbconvert_exporter": "python",
   "pygments_lexer": "ipython3",
   "version": "3.11.10"
  }
 },
 "nbformat": 4,
 "nbformat_minor": 5
}
