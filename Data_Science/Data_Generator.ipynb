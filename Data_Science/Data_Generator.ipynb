{
 "cells": [
  {
   "cell_type": "markdown",
   "id": "2ff2dc4d-19a0-4f2f-b526-ca13496f13d5",
   "metadata": {},
   "source": [
    "# Synthetic Data Generator\n",
    "\n",
    "This function generates practice data for testing programs, stats, etc. \n",
    "\n",
    "1. import libraries\n",
    "2. describe a data schema\n",
    "3. Make a dictionary\n",
    "4. Use control flow to fill the dictionary with the simulated data\n",
    "5. Convert the dictionary to a Pandas dataframe\n",
    "6. generate missing values (NaN). Determined by the 'missing fraction parameter.\n",
    "7. Save the data as a .csv file"
   ]
  },
  {
   "cell_type": "code",
   "execution_count": 4,
   "id": "1efaf6af-b6e0-48ed-bbc1-d08d02ba01b6",
   "metadata": {},
   "outputs": [],
   "source": [
    "# Import libraries\n",
    "import numpy as np\n",
    "import pandas as pd\n",
    "import random\n",
    "from datetime import datetime, timedelta"
   ]
  },
  {
   "cell_type": "code",
   "execution_count": 6,
   "id": "26a24616-2ae4-4611-aacd-f0162c47da04",
   "metadata": {},
   "outputs": [],
   "source": [
    "# Main Function\n",
    "def generate_synthetic_dataset(\n",
    "    num_rows=100,\n",
    "    schema=[\n",
    "        (\"age\", \"int\"),\n",
    "        (\"height\", \"float\"),\n",
    "        (\"gender\", \"category\"),\n",
    "        (\"is_active\", \"bool\"),\n",
    "        (\"signup_date\", \"date\")\n",
    "    ],\n",
    "    missing_fraction=0.0,\n",
    "    save_path= \"DG_Sim_Data.csv\"\n",
    "):\n",
    "    data = {} # empty dictionary\n",
    "    \n",
    "    for col_name, col_type in schema: # generate random data in a manner that depends on the data type listed in the schema\n",
    "        if col_type == \"int\":\n",
    "            data[col_name] = np.random.randint(18, 65, size=num_rows) \n",
    "        elif col_type == \"float\":\n",
    "            data[col_name] = np.round(np.random.normal(loc=170, scale=10, size=num_rows), 2)\n",
    "        elif col_type == \"category\":\n",
    "            data[col_name] = np.random.choice([\"male\", \"female\", \"other\"], size=num_rows)\n",
    "        elif col_type == \"bool\":\n",
    "            data[col_name] = np.random.choice([True, False], size=num_rows)\n",
    "        elif col_type == \"date\":\n",
    "            base = datetime.today()\n",
    "            data[col_name] = [(base - timedelta(days=random.randint(0, 3650))).date() for _ in range(num_rows)]\n",
    "        else:\n",
    "            raise ValueError(f\"Unsupported column type: {col_type}\")\n",
    "\n",
    "    df = pd.DataFrame(data)\n",
    "    \n",
    "    # Introduce missing values\n",
    "    if missing_fraction > 0:\n",
    "        for col in df.columns:\n",
    "            df.loc[df.sample(frac=missing_fraction).index, col] = np.nan\n",
    "\n",
    "    # Save to CSV\n",
    "    df.to_csv(save_path, index=False)\n",
    "    print(f\"Saved dataset to {save_path}\")\n",
    "    \n",
    "    return df # keeps the df in memory if desired"
   ]
  },
  {
   "cell_type": "code",
   "execution_count": 7,
   "id": "87e498f5-2aab-480e-be96-5adc530ae6ff",
   "metadata": {},
   "outputs": [
    {
     "name": "stdout",
     "output_type": "stream",
     "text": [
      "Saved dataset to DG_Sim_Data.csv\n",
      "    age  height  gender is_active signup_date\n",
      "0  37.0     NaN  female     False  2020-04-27\n",
      "1  35.0  180.86  female     False         NaN\n",
      "2  63.0  176.80    male      True  2021-01-29\n",
      "3  64.0  191.69   other      True  2023-01-17\n",
      "4  27.0  161.93  female      True  2016-02-03\n"
     ]
    },
    {
     "name": "stderr",
     "output_type": "stream",
     "text": [
      "C:\\Users\\schmidtc18\\AppData\\Local\\Temp\\ipykernel_50664\\442123212.py:36: FutureWarning: Setting an item of incompatible dtype is deprecated and will raise an error in a future version of pandas. Value 'nan' has dtype incompatible with bool, please explicitly cast to a compatible dtype first.\n",
      "  df.loc[df.sample(frac=missing_fraction).index, col] = np.nan\n"
     ]
    }
   ],
   "source": [
    "# Call the function to create a dataset\n",
    "df = generate_synthetic_dataset(num_rows=200, missing_fraction=0.05)\n",
    "print(df.head())"
   ]
  }
 ],
 "metadata": {
  "kernelspec": {
   "display_name": "Python 3 (ipykernel)",
   "language": "python",
   "name": "python3"
  },
  "language_info": {
   "codemirror_mode": {
    "name": "ipython",
    "version": 3
   },
   "file_extension": ".py",
   "mimetype": "text/x-python",
   "name": "python",
   "nbconvert_exporter": "python",
   "pygments_lexer": "ipython3",
   "version": "3.11.10"
  }
 },
 "nbformat": 4,
 "nbformat_minor": 5
}
