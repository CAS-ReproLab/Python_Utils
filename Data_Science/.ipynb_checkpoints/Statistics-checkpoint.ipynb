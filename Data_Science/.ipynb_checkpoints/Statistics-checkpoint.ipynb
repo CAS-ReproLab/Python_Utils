{
 "cells": [
  {
   "cell_type": "markdown",
   "id": "96088d1a-7501-4e57-b159-81dfc2bdd27c",
   "metadata": {},
   "source": [
    "# Basic Stats\n",
    "\n",
    "This utility describes some basic stats operations for describing and analyzing data. \n",
    "\n",
    "1. import libraries\n",
    "2. import the .csv file as a dataframe\n",
    "3. remove missing values\n",
    "4. "
   ]
  },
  {
   "cell_type": "code",
   "execution_count": 21,
   "id": "4b4b2ff1-974f-4d4a-958d-4e5ffb8d7a7c",
   "metadata": {},
   "outputs": [],
   "source": [
    "# Import Libraries\n",
    "import pandas as pd\n",
    "import scipy.stats as stats # for stats\n",
    "from scipy.stats import ttest_ind\n",
    "import matplotlib.pyplot as plt # for plotting\n",
    "# import seaborn as sns # also for plotting"
   ]
  },
  {
   "cell_type": "code",
   "execution_count": 5,
   "id": "15e34012-7ab3-4239-8edc-d82eda7fa49b",
   "metadata": {},
   "outputs": [
    {
     "data": {
      "text/html": [
       "<div>\n",
       "<style scoped>\n",
       "    .dataframe tbody tr th:only-of-type {\n",
       "        vertical-align: middle;\n",
       "    }\n",
       "\n",
       "    .dataframe tbody tr th {\n",
       "        vertical-align: top;\n",
       "    }\n",
       "\n",
       "    .dataframe thead th {\n",
       "        text-align: right;\n",
       "    }\n",
       "</style>\n",
       "<table border=\"1\" class=\"dataframe\">\n",
       "  <thead>\n",
       "    <tr style=\"text-align: right;\">\n",
       "      <th></th>\n",
       "      <th>age</th>\n",
       "      <th>height</th>\n",
       "      <th>gender</th>\n",
       "      <th>is_active</th>\n",
       "      <th>signup_date</th>\n",
       "    </tr>\n",
       "  </thead>\n",
       "  <tbody>\n",
       "    <tr>\n",
       "      <th>0</th>\n",
       "      <td>37.0</td>\n",
       "      <td>NaN</td>\n",
       "      <td>female</td>\n",
       "      <td>False</td>\n",
       "      <td>2020-04-27</td>\n",
       "    </tr>\n",
       "    <tr>\n",
       "      <th>1</th>\n",
       "      <td>35.0</td>\n",
       "      <td>180.86</td>\n",
       "      <td>female</td>\n",
       "      <td>False</td>\n",
       "      <td>NaN</td>\n",
       "    </tr>\n",
       "    <tr>\n",
       "      <th>2</th>\n",
       "      <td>63.0</td>\n",
       "      <td>176.80</td>\n",
       "      <td>male</td>\n",
       "      <td>True</td>\n",
       "      <td>2021-01-29</td>\n",
       "    </tr>\n",
       "    <tr>\n",
       "      <th>3</th>\n",
       "      <td>64.0</td>\n",
       "      <td>191.69</td>\n",
       "      <td>other</td>\n",
       "      <td>True</td>\n",
       "      <td>2023-01-17</td>\n",
       "    </tr>\n",
       "    <tr>\n",
       "      <th>4</th>\n",
       "      <td>27.0</td>\n",
       "      <td>161.93</td>\n",
       "      <td>female</td>\n",
       "      <td>True</td>\n",
       "      <td>2016-02-03</td>\n",
       "    </tr>\n",
       "  </tbody>\n",
       "</table>\n",
       "</div>"
      ],
      "text/plain": [
       "    age  height  gender is_active signup_date\n",
       "0  37.0     NaN  female     False  2020-04-27\n",
       "1  35.0  180.86  female     False         NaN\n",
       "2  63.0  176.80    male      True  2021-01-29\n",
       "3  64.0  191.69   other      True  2023-01-17\n",
       "4  27.0  161.93  female      True  2016-02-03"
      ]
     },
     "execution_count": 5,
     "metadata": {},
     "output_type": "execute_result"
    }
   ],
   "source": [
    "# Load the .csv file and convert to a dataframe\n",
    "file_path = \"DG_Sim_Data.csv\"\n",
    "df = pd.read_csv(file_path)\n",
    "\n",
    "# Display the first 5 rows\n",
    "df.head()"
   ]
  },
  {
   "cell_type": "code",
   "execution_count": 9,
   "id": "974c983d-7711-4770-a761-b8e96c1b4b4e",
   "metadata": {},
   "outputs": [
    {
     "data": {
      "text/html": [
       "<div>\n",
       "<style scoped>\n",
       "    .dataframe tbody tr th:only-of-type {\n",
       "        vertical-align: middle;\n",
       "    }\n",
       "\n",
       "    .dataframe tbody tr th {\n",
       "        vertical-align: top;\n",
       "    }\n",
       "\n",
       "    .dataframe thead th {\n",
       "        text-align: right;\n",
       "    }\n",
       "</style>\n",
       "<table border=\"1\" class=\"dataframe\">\n",
       "  <thead>\n",
       "    <tr style=\"text-align: right;\">\n",
       "      <th></th>\n",
       "      <th>age</th>\n",
       "      <th>height</th>\n",
       "      <th>gender</th>\n",
       "      <th>is_active</th>\n",
       "      <th>signup_date</th>\n",
       "    </tr>\n",
       "  </thead>\n",
       "  <tbody>\n",
       "    <tr>\n",
       "      <th>2</th>\n",
       "      <td>63.0</td>\n",
       "      <td>176.80</td>\n",
       "      <td>male</td>\n",
       "      <td>True</td>\n",
       "      <td>2021-01-29</td>\n",
       "    </tr>\n",
       "    <tr>\n",
       "      <th>3</th>\n",
       "      <td>64.0</td>\n",
       "      <td>191.69</td>\n",
       "      <td>other</td>\n",
       "      <td>True</td>\n",
       "      <td>2023-01-17</td>\n",
       "    </tr>\n",
       "    <tr>\n",
       "      <th>4</th>\n",
       "      <td>27.0</td>\n",
       "      <td>161.93</td>\n",
       "      <td>female</td>\n",
       "      <td>True</td>\n",
       "      <td>2016-02-03</td>\n",
       "    </tr>\n",
       "    <tr>\n",
       "      <th>5</th>\n",
       "      <td>43.0</td>\n",
       "      <td>176.31</td>\n",
       "      <td>female</td>\n",
       "      <td>False</td>\n",
       "      <td>2017-11-10</td>\n",
       "    </tr>\n",
       "    <tr>\n",
       "      <th>6</th>\n",
       "      <td>54.0</td>\n",
       "      <td>176.78</td>\n",
       "      <td>other</td>\n",
       "      <td>True</td>\n",
       "      <td>2025-04-24</td>\n",
       "    </tr>\n",
       "  </tbody>\n",
       "</table>\n",
       "</div>"
      ],
      "text/plain": [
       "    age  height  gender is_active signup_date\n",
       "2  63.0  176.80    male      True  2021-01-29\n",
       "3  64.0  191.69   other      True  2023-01-17\n",
       "4  27.0  161.93  female      True  2016-02-03\n",
       "5  43.0  176.31  female     False  2017-11-10\n",
       "6  54.0  176.78   other      True  2025-04-24"
      ]
     },
     "execution_count": 9,
     "metadata": {},
     "output_type": "execute_result"
    }
   ],
   "source": [
    "# Clean the data (remove NaNs)\n",
    "df_clean= df.dropna()\n",
    "df_clean.head()"
   ]
  },
  {
   "cell_type": "code",
   "execution_count": 11,
   "id": "ec1d3f92-baa6-41cf-905c-1a9196c8e963",
   "metadata": {},
   "outputs": [
    {
     "data": {
      "text/html": [
       "<div>\n",
       "<style scoped>\n",
       "    .dataframe tbody tr th:only-of-type {\n",
       "        vertical-align: middle;\n",
       "    }\n",
       "\n",
       "    .dataframe tbody tr th {\n",
       "        vertical-align: top;\n",
       "    }\n",
       "\n",
       "    .dataframe thead th {\n",
       "        text-align: right;\n",
       "    }\n",
       "</style>\n",
       "<table border=\"1\" class=\"dataframe\">\n",
       "  <thead>\n",
       "    <tr style=\"text-align: right;\">\n",
       "      <th></th>\n",
       "      <th>age</th>\n",
       "      <th>height</th>\n",
       "    </tr>\n",
       "  </thead>\n",
       "  <tbody>\n",
       "    <tr>\n",
       "      <th>count</th>\n",
       "      <td>155.000000</td>\n",
       "      <td>155.000000</td>\n",
       "    </tr>\n",
       "    <tr>\n",
       "      <th>mean</th>\n",
       "      <td>40.890323</td>\n",
       "      <td>171.000839</td>\n",
       "    </tr>\n",
       "    <tr>\n",
       "      <th>std</th>\n",
       "      <td>13.198075</td>\n",
       "      <td>10.123093</td>\n",
       "    </tr>\n",
       "    <tr>\n",
       "      <th>min</th>\n",
       "      <td>18.000000</td>\n",
       "      <td>146.850000</td>\n",
       "    </tr>\n",
       "    <tr>\n",
       "      <th>25%</th>\n",
       "      <td>29.500000</td>\n",
       "      <td>164.425000</td>\n",
       "    </tr>\n",
       "    <tr>\n",
       "      <th>50%</th>\n",
       "      <td>41.000000</td>\n",
       "      <td>170.600000</td>\n",
       "    </tr>\n",
       "    <tr>\n",
       "      <th>75%</th>\n",
       "      <td>51.500000</td>\n",
       "      <td>177.460000</td>\n",
       "    </tr>\n",
       "    <tr>\n",
       "      <th>max</th>\n",
       "      <td>64.000000</td>\n",
       "      <td>199.090000</td>\n",
       "    </tr>\n",
       "  </tbody>\n",
       "</table>\n",
       "</div>"
      ],
      "text/plain": [
       "              age      height\n",
       "count  155.000000  155.000000\n",
       "mean    40.890323  171.000839\n",
       "std     13.198075   10.123093\n",
       "min     18.000000  146.850000\n",
       "25%     29.500000  164.425000\n",
       "50%     41.000000  170.600000\n",
       "75%     51.500000  177.460000\n",
       "max     64.000000  199.090000"
      ]
     },
     "execution_count": 11,
     "metadata": {},
     "output_type": "execute_result"
    }
   ],
   "source": [
    "# describe the data; note only works for the numerical data...\n",
    "df_clean.describe()"
   ]
  },
  {
   "cell_type": "code",
   "execution_count": 29,
   "id": "4040ca78-afc8-45b3-a6a6-ea62dbc47eac",
   "metadata": {},
   "outputs": [
    {
     "data": {
      "text/plain": [
       "41.0"
      ]
     },
     "execution_count": 29,
     "metadata": {},
     "output_type": "execute_result"
    }
   ],
   "source": [
    "# Can look as some specific columns stats if desired\n",
    "df_clean['age'].median()"
   ]
  },
  {
   "cell_type": "code",
   "execution_count": 15,
   "id": "82700af8-fabf-4fac-9f27-0be9811be77f",
   "metadata": {},
   "outputs": [
    {
     "data": {
      "text/plain": [
       "6338.0"
      ]
     },
     "execution_count": 15,
     "metadata": {},
     "output_type": "execute_result"
    }
   ],
   "source": [
    "# Some other stuff as well like take the sum\n",
    "df_clean['age'].sum()"
   ]
  },
  {
   "cell_type": "code",
   "execution_count": 36,
   "id": "351dc7a3-dca3-4426-845a-1b3b3a34b72d",
   "metadata": {},
   "outputs": [
    {
     "name": "stdout",
     "output_type": "stream",
     "text": [
      " the median value is 41.0\n",
      "      age  height  gender is_active signup_date\n",
      "4    27.0  161.93  female      True  2016-02-03\n",
      "7    32.0  174.37  female      True  2023-11-21\n",
      "8    26.0  149.44   other      True  2019-07-28\n",
      "10   34.0  189.72  female      True  2020-10-06\n",
      "14   34.0  174.15   other      True  2023-02-12\n",
      "..    ...     ...     ...       ...         ...\n",
      "192  22.0  188.98   other      True  2023-03-27\n",
      "193  37.0  146.85   other     False  2016-09-17\n",
      "194  27.0  180.64   other     False  2023-10-12\n",
      "195  40.0  168.79   other      True  2024-07-23\n",
      "199  23.0  166.29    male      True  2018-01-17\n",
      "\n",
      "[81 rows x 5 columns]\n",
      "      age  height  gender is_active signup_date\n",
      "2    63.0  176.80    male      True  2021-01-29\n",
      "3    64.0  191.69   other      True  2023-01-17\n",
      "5    43.0  176.31  female     False  2017-11-10\n",
      "6    54.0  176.78   other      True  2025-04-24\n",
      "11   51.0  164.47  female     False  2019-06-14\n",
      "..    ...     ...     ...       ...         ...\n",
      "181  46.0  164.45  female      True  2023-06-01\n",
      "184  56.0  172.95  female     False  2016-12-20\n",
      "186  45.0  193.26  female      True  2022-06-26\n",
      "196  56.0  151.93   other     False  2016-11-05\n",
      "198  60.0  185.02    male     False  2024-10-27\n",
      "\n",
      "[74 rows x 5 columns]\n"
     ]
    }
   ],
   "source": [
    "# Use the median age to split the data set (gives us two groups from the same type of measurement for some stats tests)...\n",
    "median_val= df_clean['age'].median()\n",
    "print(f' the median value is {median_val}')\n",
    "\n",
    "less_than= df_clean[df_clean['age'] <= median_val]\n",
    "print(less_than)\n",
    "greater_than= df_clean[df_clean['age'] > median_val]\n",
    "print(greater_than)"
   ]
  },
  {
   "cell_type": "code",
   "execution_count": 38,
   "id": "39cdf470-46b2-473e-b018-24cf0ddecf07",
   "metadata": {},
   "outputs": [
    {
     "name": "stdout",
     "output_type": "stream",
     "text": [
      " the t-statistic is: -19.4577\n",
      " the p-value is  0.0000\n"
     ]
    }
   ],
   "source": [
    "# Do a t-test using the two groups\n",
    "x1= less_than['age']\n",
    "x2= greater_than['age']\n",
    "\n",
    "# Welch's t-test\n",
    "t_stat, p_val= ttest_ind(x1, x2, equal_var= False)\n",
    "\n",
    "print(f' the t-statistic is: {t_stat: .4f}')\n",
    "print(f' the p-value is {p_val: .4f}')"
   ]
  }
 ],
 "metadata": {
  "kernelspec": {
   "display_name": "Python 3 (ipykernel)",
   "language": "python",
   "name": "python3"
  },
  "language_info": {
   "codemirror_mode": {
    "name": "ipython",
    "version": 3
   },
   "file_extension": ".py",
   "mimetype": "text/x-python",
   "name": "python",
   "nbconvert_exporter": "python",
   "pygments_lexer": "ipython3",
   "version": "3.11.10"
  }
 },
 "nbformat": 4,
 "nbformat_minor": 5
}
